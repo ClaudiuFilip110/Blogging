{
 "cells": [
  {
   "cell_type": "markdown",
   "metadata": {},
   "source": [
    "# Model from scratch with explanation\n",
    "> \"A MNIST neural network classifier from scratch\"\n",
    "\n",
    "- toc: false\n",
    "- branch: master\n",
    "- badges: true\n",
    "- comments: true\n",
    "- categories: [fastpages, jupyter]\n",
    "- image: images/model_scratch/model.PNG\n",
    "- hide: false\n",
    "- search_exclude: true"
   ]
  },
  {
   "cell_type": "markdown",
   "metadata": {},
   "source": [
    "In this example we will try to code a neural net from the ground up. We will use the basics learned from the earlier examples. Specifically, this model:\n",
    "![](my_icons/model.PNG)"
   ]
  },
  {
   "cell_type": "markdown",
   "metadata": {},
   "source": [
    "# Steps\n",
    "The steps we need to take are as follow:\n",
    "1. init dataset + weights and biases2\n",
    "1. calculate gradient \n",
    "    - predict the values\n",
    "    - calculate the loss\n",
    "    - calc. gradients + go backward\n",
    "    - set the gradients to 0 so they don't add up on the next backward pass\n",
    "1. calculate the accuracy\n",
    "\n",
    "## Requirements\n",
    "- a loss function\n",
    "- a model\n",
    "- scale everything up with fastai libs. and compare"
   ]
  },
  {
   "cell_type": "code",
   "execution_count": null,
   "metadata": {},
   "outputs": [],
   "source": [
    "from fastai.vision.all import *\n",
    "from fastbook import *\n",
    "\n",
    "#first we need to get the images from the file\n",
    "path = untar_data(URLs.MNIST_SAMPLE)\n",
    "threes = (path/'train'/'3').ls() #these are paths to the files\n",
    "sevens = (path/'train'/'7').ls()\n",
    "\n",
    "#then we put them into tensors\n",
    "threes_tensors = [tensor(Image.open(o)) for o in threes]\n",
    "sevens_tensors = [tensor(Image.open(o)) for o in sevens]\n",
    "threes_tensors[0][4:30][4:30], show_image(threes_tensors[0])"
   ]
  },
  {
   "cell_type": "markdown",
   "metadata": {},
   "source": [
    "As you can see, printing a value from threes_tensors we get a tensor with the value of each pixel. The form resembles a three."
   ]
  },
  {
   "cell_type": "code",
   "execution_count": 31,
   "metadata": {},
   "outputs": [
    {
     "data": {
      "text/plain": [
       "(tensor([[0.0000, 0.0000, 0.0000, 0.0000, 0.0000, 0.9922, 0.9882, 0.9882, 0.9882, 0.8078],\n",
       "         [0.0000, 0.0000, 0.2471, 0.3686, 0.8510, 0.9922, 0.7412, 0.6196, 0.1373, 0.0784],\n",
       "         [0.0000, 0.3882, 0.9490, 0.9647, 0.8431, 0.2824, 0.0392, 0.0000, 0.0000, 0.0000],\n",
       "         [0.0000, 0.9922, 0.9882, 0.5176, 0.0000, 0.0000, 0.0000, 0.0000, 0.0000, 0.0000],\n",
       "         [0.0000, 0.7529, 0.9922, 0.9098, 0.1843, 0.0000, 0.0000, 0.0000, 0.0000, 0.0000],\n",
       "         [0.0000, 0.3059, 0.9490, 0.9882, 0.9098, 0.1647, 0.0000, 0.0000, 0.0000, 0.0000],\n",
       "         [0.0000, 0.0000, 0.4039, 0.9451, 0.9882, 0.8706, 0.2235, 0.0431, 0.0000, 0.0000],\n",
       "         [0.0000, 0.0000, 0.0000, 0.3843, 0.9882, 0.9922, 0.9882, 0.2784, 0.0000, 0.0000],\n",
       "         [0.0000, 0.0000, 0.0000, 0.0000, 0.0000, 1.0000, 0.9922, 0.9098, 0.1843, 0.0000],\n",
       "         [0.0000, 0.0000, 0.0000, 0.0000, 0.0000, 0.3843, 0.7843, 0.9882, 0.9098, 0.0000]]),\n",
       " torch.Size([6131, 28, 28]))"
      ]
     },
     "execution_count": 31,
     "metadata": {},
     "output_type": "execute_result"
    }
   ],
   "source": [
    "#the next step is to stack the threes and sevens together so we can get a simple array\n",
    "stacked_threes = torch.stack(threes_tensors).float()/255\n",
    "stacked_sevens = torch.stack(sevens_tensors).float()/255\n",
    "stacked_threes[0][10:20,10:20], stacked_threes.shape\n",
    "#now we can see the values are scaled between 0 and 1"
   ]
  },
  {
   "cell_type": "markdown",
   "metadata": {},
   "source": [
    "the shape is what defins a tensor. We have 6131 images of 28 * 28 height and width. We changed it from an image to a rank 3 tensor. This will provide extremly useful later."
   ]
  },
  {
   "cell_type": "markdown",
   "metadata": {},
   "source": [
    "Now, we will be using <b> SGD - stochastic gradient descent </b> to teach the model to learn. \n",
    "## Steps\n",
    "\n",
    "1. *Initialize* the weights.\n",
    "1. For each image, use these weights to *predict* whether it appears to be a 3 or a 7.\n",
    "1. Based on these predictions, calculate how good the model is (its *loss*).\n",
    "1. Calculate the *gradient*, which measures for each weight, how changing that weight would change the loss\n",
    "1. *Step* (that is, change) all the weights based on that calculation.\n",
    "1. Go back to the step 2, and *repeat* the process.\n",
    "1. Iterate until you decide to *stop* the training process (for instance, because the model is good enough or you don't want to wait any longer)."
   ]
  },
  {
   "cell_type": "code",
   "execution_count": 32,
   "metadata": {},
   "outputs": [
    {
     "data": {
      "text/plain": [
       "(torch.Size([12396, 784]),\n",
       " tensor([0., 0., 0., 0., 0., 0., 0., 0., 0., 0., 0., 0., 0., 0., 0., 0., 0., 0., 0., 0., 0., 0., 0., 0., 0., 0., 0., 0., 0., 0., 0., 0., 0., 0., 0., 0., 0., 0., 0., 0., 0., 0., 0., 0., 0., 0., 0., 0., 0., 0., 0., 0., 0., 0., 0., 0., 0., 0., 0., 0., 0., 0., 0., 0.,\n",
       "         0., 0., 0., 0., 0., 0., 0., 0., 0., 0., 0., 0., 0., 0., 0., 0., 0., 0., 0., 0., 0., 0., 0., 0., 0., 0., 0., 0., 0., 0., 0., 0., 0., 0., 0., 0.]))"
      ]
     },
     "execution_count": 32,
     "metadata": {},
     "output_type": "execute_result"
    }
   ],
   "source": [
    "#now we can finally get the final parameters that we will use\n",
    "train_x = torch.cat((stacked_threes, stacked_sevens)).view(-1,28*28)\n",
    "\n",
    "\n",
    "#we changed the rank of the tensor from 3 to 2 using view.\n",
    "#Why? Because it's easier to work with\n",
    "train_x.shape, train_x[0,:100]"
   ]
  },
  {
   "cell_type": "code",
   "execution_count": 33,
   "metadata": {},
   "outputs": [
    {
     "name": "stdout",
     "output_type": "stream",
     "text": [
      "torch.Size([12396])\n"
     ]
    },
    {
     "data": {
      "text/plain": [
       "torch.Size([12396, 1])"
      ]
     },
     "execution_count": 33,
     "metadata": {},
     "output_type": "execute_result"
    }
   ],
   "source": [
    "#now we need a label for 3 and 7. We will use 1 for 3 and 0 for 7\n",
    "#so the model will predict 1 if it's a 3 and a 0 if it's a 7\n",
    "train_y = tensor([1]*len(stacked_threes) + [0]*len(stacked_sevens))\n",
    "print(train_y.shape)\n",
    "#currently we have an array of 1s and 0s that represent all the 3s and 7s in the training set. \n",
    "#but we need a 2D array, that's required from pytorch so we use unsqueeze\n",
    "train_y = train_y.unsqueeze(1)\n",
    "train_y.shape"
   ]
  },
  {
   "cell_type": "code",
   "execution_count": 34,
   "metadata": {},
   "outputs": [
    {
     "data": {
      "text/plain": [
       "(torch.Size([12396, 784]), torch.Size([12396, 1]))"
      ]
     },
     "execution_count": 34,
     "metadata": {},
     "output_type": "execute_result"
    }
   ],
   "source": [
    "#so the final vars. will be\n",
    "train_x.shape, train_y.shape"
   ]
  },
  {
   "cell_type": "code",
   "execution_count": 35,
   "metadata": {},
   "outputs": [
    {
     "data": {
      "text/plain": [
       "(torch.Size([2038, 784]), torch.Size([2038, 1]))"
      ]
     },
     "execution_count": 35,
     "metadata": {},
     "output_type": "execute_result"
    }
   ],
   "source": [
    "#do the same for the validation set\n",
    "\n",
    "valid_threes = (path/'valid'/'3').ls()\n",
    "valid_sevens = (path/'valid'/'7').ls()\n",
    "valid_threes_tensors = [tensor(Image.open(o)) for o in valid_threes]\n",
    "valid_sevens_tensors = [tensor(Image.open(o)) for o in valid_sevens]\n",
    "\n",
    "valid_threes_tensors = torch.stack(valid_threes_tensors).float()/255\n",
    "valid_sevens_tensors = torch.stack(valid_sevens_tensors).float()/255\n",
    "\n",
    "valid_x = torch.cat((valid_threes_tensors, valid_sevens_tensors)).view(-1, 28 * 28)\n",
    "valid_y = tensor([1] * len(valid_threes_tensors) + [0] * len(valid_sevens_tensors)).unsqueeze(1)\n",
    "\n",
    "valid_x.shape, valid_y.shape"
   ]
  },
  {
   "cell_type": "code",
   "execution_count": 36,
   "metadata": {},
   "outputs": [
    {
     "data": {
      "text/plain": [
       "(torch.Size([784]), tensor([1]))"
      ]
     },
     "execution_count": 36,
     "metadata": {},
     "output_type": "execute_result"
    }
   ],
   "source": [
    "#we can now get the full dataset\n",
    "dset = list(zip(train_x, train_y))\n",
    "x, y = dset[0]\n",
    "\n",
    "valid_dset = list(zip(valid_x, valid_y))\n",
    "\n",
    "x.shape, y # x -> image, y -> label of that image"
   ]
  },
  {
   "cell_type": "code",
   "execution_count": 37,
   "metadata": {},
   "outputs": [
    {
     "data": {
      "text/plain": [
       "(torch.Size([784, 1]), torch.Size([1]))"
      ]
     },
     "execution_count": 37,
     "metadata": {},
     "output_type": "execute_result"
    }
   ],
   "source": [
    "#now we need to initialize the parameters with random values\n",
    "def init_params(size, std=1.0): return (torch.randn(size)*std).requires_grad_()\n",
    "#we also need .requires_grad_ so that it knows we want back propagation + we want it in place\n",
    "\n",
    "#init. weights\n",
    "weights = init_params((28 * 28,1)) # we init. a weight for every pixel\n",
    "bias = init_params(1)\n",
    "weights.shape, bias.shape # we need this shape later\n"
   ]
  },
  {
   "cell_type": "markdown",
   "metadata": {},
   "source": [
    "We have finally finished the first step in our model: initializing the random values which will change in time.\n",
    "# initialize - complete"
   ]
  },
  {
   "cell_type": "markdown",
   "metadata": {},
   "source": [
    "# predicting\n",
    "The next step is to predict what the value is. How do we do that? We multiply the matrices together. By doing that we get the prediction based on the weights assigned to it."
   ]
  },
  {
   "cell_type": "code",
   "execution_count": 38,
   "metadata": {},
   "outputs": [
    {
     "data": {
      "text/plain": [
       "tensor([1.0124], grad_fn=<AddBackward0>)"
      ]
     },
     "execution_count": 38,
     "metadata": {},
     "output_type": "execute_result"
    }
   ],
   "source": [
    "(train_x[0] * weights.T).sum() + bias"
   ]
  },
  {
   "cell_type": "markdown",
   "metadata": {},
   "source": [
    "This is the predicted value for the first image. But what we need is the prediction for the whole dataset. We can't use for loops(since they are extremly slow, but we can use broadcasting)."
   ]
  },
  {
   "cell_type": "code",
   "execution_count": 39,
   "metadata": {},
   "outputs": [
    {
     "data": {
      "text/plain": [
       "tensor([[ 1.0124],\n",
       "        [12.9530],\n",
       "        [ 2.6870],\n",
       "        ...,\n",
       "        [13.2774],\n",
       "        [ 4.4847],\n",
       "        [ 9.8195]], grad_fn=<AddBackward0>)"
      ]
     },
     "execution_count": 39,
     "metadata": {},
     "output_type": "execute_result"
    }
   ],
   "source": [
    "#creating a function that does that for us.\n",
    "def linear1(xb): return xb@weights + bias\n",
    "\n",
    "predictions = linear1(train_x)\n",
    "predictions"
   ]
  },
  {
   "cell_type": "markdown",
   "metadata": {},
   "source": [
    "As we can see, the first predictions match showing that our math was correct. \n",
    "### So, we calculated the prediction using the linear function.\n",
    "The next step is to calculate the loss\n",
    "\n",
    "# Calculating the loss"
   ]
  },
  {
   "cell_type": "code",
   "execution_count": 40,
   "metadata": {},
   "outputs": [
    {
     "data": {
      "text/plain": [
       "0.5086318254470825"
      ]
     },
     "execution_count": 40,
     "metadata": {},
     "output_type": "execute_result"
    }
   ],
   "source": [
    "correct = (predictions > 0.0).float() == train_y\n",
    "correct.float().mean().item() # this returns the accuracy of the model"
   ]
  },
  {
   "cell_type": "markdown",
   "metadata": {},
   "source": [
    "As we expected, the accuracy of the model is <b> BAD </b>.\n",
    "\n",
    "AND we can't use the accuracy of the model as the loss functions since a small change in the weights will, most likely, not change the accuracy, so we need another loss function."
   ]
  },
  {
   "cell_type": "code",
   "execution_count": 41,
   "metadata": {},
   "outputs": [
    {
     "data": {
      "text/plain": [
       "0.4906861484050751"
      ]
     },
     "execution_count": 41,
     "metadata": {},
     "output_type": "execute_result"
    }
   ],
   "source": [
    "def sigmoid(x): return 1/(1+torch.exp(-x))\n",
    "\n",
    "def mnist_loss(predictions, targets):\n",
    "    predictions = predictions.sigmoid()\n",
    "    return torch.where(targets==1,1-predictions,predictions).mean()\n",
    "\n",
    "mnist_loss(predictions, train_y).item()"
   ]
  },
  {
   "cell_type": "markdown",
   "metadata": {},
   "source": [
    "Of course, the loss function is 1 - the accuracy. Now that we have finished the loss step of the road, the next thing we need to do is <b> optimization </b>.\n",
    "\n",
    "# Optimization\n",
    "In order to optimize we use batches. What are batches? \n",
    "\n",
    "<b> Batches </b> are chunks of data. We could train the model for the whole dataset, but it would take a lot of time. And we could also train the model on a single piece of data train_x[0], but that will not produce very  accurate results. So, by having this compromise we can take \"the good\" from both methods. \n",
    "\n",
    "DataLoader already has a batch_size parameter. That being said, we can start implementing everything up until now in a more concise way.\n",
    "\n",
    "\n",
    "Putting it all together\n",
    "--\n",
    "- init parameters\n",
    "- init dataLoader: dset + batch_size\n",
    "- create a func. that does prediction, loss and gradient for us"
   ]
  },
  {
   "cell_type": "code",
   "execution_count": 42,
   "metadata": {},
   "outputs": [
    {
     "name": "stdout",
     "output_type": "stream",
     "text": [
      "tensor(-0.0093) tensor([-0.0705])\n"
     ]
    },
    {
     "data": {
      "text/plain": [
       "tensor([0.])"
      ]
     },
     "execution_count": 42,
     "metadata": {},
     "output_type": "execute_result"
    }
   ],
   "source": [
    "#params\n",
    "weights = init_params((28*28,1))\n",
    "bias = init_params(1)\n",
    "\n",
    "#dataloader\n",
    "dl = DataLoader(dset, batch_size=256)\n",
    "valid_dl = DataLoader(valid_dset, batch_size=256)\n",
    "\n",
    "def calc_grad(xb, yb, model):\n",
    "    preds = model(xb)\n",
    "    loss = mnist_loss(preds, yb)\n",
    "    loss.backward()\n",
    "    \n",
    "    #why LOSS.backward()? because we need to calculate loss'(train_x). That is the gradient\n",
    "\n",
    "xb, yb = first(dl)\n",
    "calc_grad(xb, yb, linear1)\n",
    "print(weights.grad.mean(),bias.grad)\n",
    "weights.grad.zero_()\n",
    "bias.grad.zero_()"
   ]
  },
  {
   "cell_type": "code",
   "execution_count": 43,
   "metadata": {},
   "outputs": [
    {
     "name": "stdout",
     "output_type": "stream",
     "text": [
      "tensor(0.5101)\n"
     ]
    },
    {
     "data": {
      "text/plain": [
       "tensor(0.6547)"
      ]
     },
     "execution_count": 43,
     "metadata": {},
     "output_type": "execute_result"
    }
   ],
   "source": [
    "#by putting this last cell together we get a function\n",
    "def train_epoch(model, lr, params):\n",
    "    for xb, yb in dl:\n",
    "        calc_grad(xb,yb,model)\n",
    "        for p in params:\n",
    "            p.data -= p.grad * lr\n",
    "            p.grad.zero_()\n",
    "            \n",
    "#now we need a function to tell us the accuracy of the model\n",
    "# xb is actually model(xb)\n",
    "def batch_accuracy(xb, yb):\n",
    "    preds = sigmoid(xb)\n",
    "    corrects = (preds>0.5) == yb\n",
    "    return corrects.float().mean()\n",
    "\n",
    "def validate_epoch(model):\n",
    "    acc = [batch_accuracy(model(xb), yb) for xb, yb in valid_dl]\n",
    "    return torch.stack(acc).mean()\n",
    "\n",
    "\n",
    "#now let's try to train for an epoch and see if there is any change\n",
    "lr=1.0\n",
    "params = weights,bias\n",
    "print(validate_epoch(linear1))\n",
    "train_epoch(linear1, lr, params)\n",
    "validate_epoch(linear1)"
   ]
  },
  {
   "cell_type": "markdown",
   "metadata": {},
   "source": []
  },
  {
   "cell_type": "markdown",
   "metadata": {},
   "source": [
    "So we can clearly see that the improvement is massive. Clearly, we are going in the right direction. I'm wondering what would happen if we added the learning rate, instead of subtracting it. So let's try."
   ]
  },
  {
   "cell_type": "code",
   "execution_count": 44,
   "metadata": {},
   "outputs": [
    {
     "name": "stdout",
     "output_type": "stream",
     "text": [
      "tensor(0.6547)\n"
     ]
    },
    {
     "data": {
      "text/plain": [
       "tensor(0.8661)"
      ]
     },
     "execution_count": 44,
     "metadata": {},
     "output_type": "execute_result"
    }
   ],
   "source": [
    "def train_epoch_plus(model, lr, params):\n",
    "    for xb, yb in dl:\n",
    "        calc_grad(xb,yb,model)\n",
    "        for p in params:\n",
    "            p.data += p.grad * lr\n",
    "            p.grad.zero_()\n",
    "            \n",
    "\n",
    "lr=1.0\n",
    "params = weights,bias\n",
    "print(validate_epoch(linear1))\n",
    "train_epoch(linear1, lr, params)\n",
    "validate_epoch(linear1)"
   ]
  },
  {
   "cell_type": "markdown",
   "metadata": {},
   "source": [
    "Apparently there is no difference. That's good to know. Continuing and creating a loop we can train a model for however many epochs we desire."
   ]
  },
  {
   "cell_type": "code",
   "execution_count": 45,
   "metadata": {},
   "outputs": [
    {
     "name": "stdout",
     "output_type": "stream",
     "text": [
      "tensor(0.9257)\n",
      "tensor(0.9462)\n",
      "tensor(0.9540)\n",
      "tensor(0.9599)\n",
      "tensor(0.9628)\n",
      "tensor(0.9642)\n",
      "tensor(0.9662)\n",
      "tensor(0.9691)\n",
      "tensor(0.9706)\n",
      "tensor(0.9716)\n",
      "tensor(0.9716)\n",
      "tensor(0.9726)\n",
      "tensor(0.9721)\n",
      "tensor(0.9726)\n",
      "tensor(0.9736)\n",
      "tensor(0.9736)\n",
      "tensor(0.9740)\n",
      "tensor(0.9745)\n",
      "tensor(0.9755)\n",
      "tensor(0.9755)\n"
     ]
    }
   ],
   "source": [
    "for i in range(20):\n",
    "    lr=1.0\n",
    "    params = weights,bias\n",
    "    train_epoch(linear1, lr, params)\n",
    "    print(validate_epoch(linear1))"
   ]
  },
  {
   "cell_type": "markdown",
   "metadata": {},
   "source": [
    "So, we have created a model from scratch complete with a loss function, an activation function, gradient descent and everything else. Everything we created thus far has been in order to appreciate how simple models really are. PyTorch already has these functionalities, so going furthur we will use theirs instead of ours( since theirs are more optimised).\n",
    "\n",
    "# Optimizer\n",
    "We can start using PyTorch's methods. For example:\n",
    "\n",
    "nn.Linear does exactly what our init_params + linear1 does, but better. Using this information we can create our own BasicOptimizer."
   ]
  },
  {
   "cell_type": "code",
   "execution_count": 46,
   "metadata": {},
   "outputs": [
    {
     "data": {
      "text/plain": [
       "(torch.Size([1, 784]), torch.Size([1]))"
      ]
     },
     "execution_count": 46,
     "metadata": {},
     "output_type": "execute_result"
    }
   ],
   "source": [
    "linear_model = nn.Linear(28*28,1)\n",
    "w, b = linear_model.parameters()\n",
    "w.shape,b.shape"
   ]
  },
  {
   "cell_type": "code",
   "execution_count": 47,
   "metadata": {},
   "outputs": [],
   "source": [
    "#going further and creating the optimiser\n",
    "class BasicOptim:\n",
    "    def __init__(self,params,lr): self.params,self.lr = list(params),lr\n",
    "\n",
    "    def step(self, *args, **kwargs):\n",
    "        for p in self.params: p.data -= p.grad.data * self.lr\n",
    "\n",
    "    def zero_grad(self, *args, **kwargs):\n",
    "        for p in self.params: p.grad = None\n",
    "#again, this optimizer is just for learning purposes."
   ]
  },
  {
   "cell_type": "code",
   "execution_count": 48,
   "metadata": {},
   "outputs": [],
   "source": [
    "opt = BasicOptim(linear_model.parameters(),lr)\n",
    "#thus making our train_epoch loop clearer and more concise\n",
    "def train_epoch(model):\n",
    "    for xb, yb in dl:\n",
    "        calc_grad(xb, yb, model)\n",
    "        opt.step() # does the learning\n",
    "        opt.zero_grad()"
   ]
  },
  {
   "cell_type": "code",
   "execution_count": 49,
   "metadata": {},
   "outputs": [],
   "source": [
    "def train_model(model, epochs):\n",
    "    for i in range(epochs):\n",
    "        train_epoch(model)\n",
    "        print(validate_epoch(model))"
   ]
  },
  {
   "cell_type": "code",
   "execution_count": 50,
   "metadata": {},
   "outputs": [
    {
     "name": "stdout",
     "output_type": "stream",
     "text": [
      "tensor(0.4932)\n",
      "tensor(0.7041)\n",
      "tensor(0.8647)\n",
      "tensor(0.9194)\n",
      "tensor(0.9375)\n",
      "tensor(0.9541)\n",
      "tensor(0.9619)\n",
      "tensor(0.9663)\n",
      "tensor(0.9672)\n",
      "tensor(0.9687)\n",
      "tensor(0.9712)\n",
      "tensor(0.9716)\n",
      "tensor(0.9731)\n",
      "tensor(0.9745)\n",
      "tensor(0.9750)\n",
      "tensor(0.9770)\n",
      "tensor(0.9770)\n",
      "tensor(0.9775)\n",
      "tensor(0.9785)\n",
      "tensor(0.9785)\n"
     ]
    }
   ],
   "source": [
    "train_model(linear_model,20)"
   ]
  },
  {
   "cell_type": "markdown",
   "metadata": {},
   "source": [
    "# conclusions thus far\n",
    "We have managed to create a model from the ground up. We created our own loss function, our own linear function, which we later swapped for a nn.Linear from the pyTorch library and the model from scratch; complete with batch sizes, epoch training and full model training. Finally, we created a simple optimizer for our model. \n",
    "\n",
    "This was so we can get accustomed to the way these models work. I hope I understood them correctly.\n"
   ]
  },
  {
   "cell_type": "code",
   "execution_count": 51,
   "metadata": {},
   "outputs": [
    {
     "name": "stdout",
     "output_type": "stream",
     "text": [
      "tensor(0.4932)\n",
      "tensor(0.6846)\n",
      "tensor(0.8725)\n",
      "tensor(0.9199)\n",
      "tensor(0.9379)\n",
      "tensor(0.9516)\n",
      "tensor(0.9619)\n",
      "tensor(0.9658)\n",
      "tensor(0.9668)\n",
      "tensor(0.9692)\n",
      "tensor(0.9712)\n",
      "tensor(0.9716)\n",
      "tensor(0.9731)\n",
      "tensor(0.9751)\n",
      "tensor(0.9750)\n",
      "tensor(0.9765)\n",
      "tensor(0.9770)\n",
      "tensor(0.9775)\n",
      "tensor(0.9785)\n",
      "tensor(0.9789)\n"
     ]
    }
   ],
   "source": [
    "#we can swap BasicOptim for SGD which is a class in pyTorch that does the exact same thing.\n",
    "linear_model = nn.Linear(28*28,1)\n",
    "opt = SGD(linear_model.parameters(),lr)\n",
    "train_model(linear_model,20)"
   ]
  },
  {
   "cell_type": "markdown",
   "metadata": {},
   "source": [
    "Everything we've learned so far can be summed up in these 3 lines of code. We did this so we can understand that ML and NN are not a black box, just a tad complex, but with patience and a little determination we can understand them. Continuing in using the functionalities of fastai and pyTorch we can simplify this even further"
   ]
  },
  {
   "cell_type": "code",
   "execution_count": 52,
   "metadata": {},
   "outputs": [
    {
     "data": {
      "text/html": [
       "<table border=\"1\" class=\"dataframe\">\n",
       "  <thead>\n",
       "    <tr style=\"text-align: left;\">\n",
       "      <th>epoch</th>\n",
       "      <th>train_loss</th>\n",
       "      <th>valid_loss</th>\n",
       "      <th>batch_accuracy</th>\n",
       "      <th>time</th>\n",
       "    </tr>\n",
       "  </thead>\n",
       "  <tbody>\n",
       "    <tr>\n",
       "      <td>0</td>\n",
       "      <td>0.635360</td>\n",
       "      <td>0.494356</td>\n",
       "      <td>0.495584</td>\n",
       "      <td>00:00</td>\n",
       "    </tr>\n",
       "    <tr>\n",
       "      <td>1</td>\n",
       "      <td>0.226966</td>\n",
       "      <td>0.318078</td>\n",
       "      <td>0.676153</td>\n",
       "      <td>00:00</td>\n",
       "    </tr>\n",
       "    <tr>\n",
       "      <td>2</td>\n",
       "      <td>0.093637</td>\n",
       "      <td>0.142499</td>\n",
       "      <td>0.871933</td>\n",
       "      <td>00:00</td>\n",
       "    </tr>\n",
       "    <tr>\n",
       "      <td>3</td>\n",
       "      <td>0.047846</td>\n",
       "      <td>0.093609</td>\n",
       "      <td>0.921001</td>\n",
       "      <td>00:00</td>\n",
       "    </tr>\n",
       "    <tr>\n",
       "      <td>4</td>\n",
       "      <td>0.030696</td>\n",
       "      <td>0.070695</td>\n",
       "      <td>0.937684</td>\n",
       "      <td>00:00</td>\n",
       "    </tr>\n",
       "    <tr>\n",
       "      <td>5</td>\n",
       "      <td>0.023929</td>\n",
       "      <td>0.057301</td>\n",
       "      <td>0.953876</td>\n",
       "      <td>00:00</td>\n",
       "    </tr>\n",
       "    <tr>\n",
       "      <td>6</td>\n",
       "      <td>0.021051</td>\n",
       "      <td>0.048755</td>\n",
       "      <td>0.963199</td>\n",
       "      <td>00:00</td>\n",
       "    </tr>\n",
       "    <tr>\n",
       "      <td>7</td>\n",
       "      <td>0.019648</td>\n",
       "      <td>0.043098</td>\n",
       "      <td>0.965653</td>\n",
       "      <td>00:00</td>\n",
       "    </tr>\n",
       "    <tr>\n",
       "      <td>8</td>\n",
       "      <td>0.018820</td>\n",
       "      <td>0.039178</td>\n",
       "      <td>0.967125</td>\n",
       "      <td>00:00</td>\n",
       "    </tr>\n",
       "    <tr>\n",
       "      <td>9</td>\n",
       "      <td>0.018225</td>\n",
       "      <td>0.036301</td>\n",
       "      <td>0.969087</td>\n",
       "      <td>00:00</td>\n",
       "    </tr>\n",
       "    <tr>\n",
       "      <td>10</td>\n",
       "      <td>0.017732</td>\n",
       "      <td>0.034072</td>\n",
       "      <td>0.971050</td>\n",
       "      <td>00:00</td>\n",
       "    </tr>\n",
       "    <tr>\n",
       "      <td>11</td>\n",
       "      <td>0.017297</td>\n",
       "      <td>0.032270</td>\n",
       "      <td>0.971541</td>\n",
       "      <td>00:00</td>\n",
       "    </tr>\n",
       "    <tr>\n",
       "      <td>12</td>\n",
       "      <td>0.016904</td>\n",
       "      <td>0.030767</td>\n",
       "      <td>0.973013</td>\n",
       "      <td>00:00</td>\n",
       "    </tr>\n",
       "    <tr>\n",
       "      <td>13</td>\n",
       "      <td>0.016548</td>\n",
       "      <td>0.029488</td>\n",
       "      <td>0.974485</td>\n",
       "      <td>00:00</td>\n",
       "    </tr>\n",
       "    <tr>\n",
       "      <td>14</td>\n",
       "      <td>0.016226</td>\n",
       "      <td>0.028387</td>\n",
       "      <td>0.975466</td>\n",
       "      <td>00:00</td>\n",
       "    </tr>\n",
       "    <tr>\n",
       "      <td>15</td>\n",
       "      <td>0.015936</td>\n",
       "      <td>0.027430</td>\n",
       "      <td>0.976938</td>\n",
       "      <td>00:00</td>\n",
       "    </tr>\n",
       "    <tr>\n",
       "      <td>16</td>\n",
       "      <td>0.015675</td>\n",
       "      <td>0.026594</td>\n",
       "      <td>0.976938</td>\n",
       "      <td>00:00</td>\n",
       "    </tr>\n",
       "    <tr>\n",
       "      <td>17</td>\n",
       "      <td>0.015439</td>\n",
       "      <td>0.025859</td>\n",
       "      <td>0.977429</td>\n",
       "      <td>00:00</td>\n",
       "    </tr>\n",
       "    <tr>\n",
       "      <td>18</td>\n",
       "      <td>0.015227</td>\n",
       "      <td>0.025209</td>\n",
       "      <td>0.977920</td>\n",
       "      <td>00:00</td>\n",
       "    </tr>\n",
       "    <tr>\n",
       "      <td>19</td>\n",
       "      <td>0.015035</td>\n",
       "      <td>0.024630</td>\n",
       "      <td>0.978410</td>\n",
       "      <td>00:00</td>\n",
       "    </tr>\n",
       "  </tbody>\n",
       "</table>"
      ],
      "text/plain": [
       "<IPython.core.display.HTML object>"
      ]
     },
     "metadata": {},
     "output_type": "display_data"
    }
   ],
   "source": [
    "dls = DataLoaders(dl, valid_dl) # this will contain all our datasets\n",
    "learner = Learner(dls, nn.Linear(28*28,1), opt_func=SGD, loss_func=mnist_loss,metrics=batch_accuracy)\n",
    "#now we .fit so the model can learn\n",
    "learner.fit(20, lr=lr)"
   ]
  },
  {
   "cell_type": "markdown",
   "metadata": {},
   "source": [
    "# WOW\n",
    "In the end, all these libraries do is what we already know how to do. but we applied our knowledge on linear functions up until now. \n",
    "\n",
    "In order to be called Neural Networks we need a non-linear model so it can fit anything that is not linear. You'd think this would be the hardest step this far, but it is actually the easiest of them all because we have learnt so much beforehand. pyTorch helps us in that regard."
   ]
  },
  {
   "cell_type": "code",
   "execution_count": 53,
   "metadata": {},
   "outputs": [],
   "source": [
    "w1 = init_params((28*28,30))\n",
    "b1 = init_params(30)\n",
    "w2 = init_params((30,1))\n",
    "b2 = init_params(1)"
   ]
  },
  {
   "cell_type": "code",
   "execution_count": 54,
   "metadata": {},
   "outputs": [],
   "source": [
    "def simple_net(xb):\n",
    "    res = xb@w1 + b1\n",
    "    res = res.max(tensor(0.0))\n",
    "    res = res@w2 + b2\n",
    "    return res"
   ]
  },
  {
   "cell_type": "markdown",
   "metadata": {},
   "source": [
    "# non linearity\n",
    "We have just created a simple neural network. It is non-linear because we have the `res = res.max(tensor(0.0))` which is a ReLU - rectified liniar unit.\n",
    "The weights shape must align\n",
    "`w1` has 30 output activations which means `w2` must have 30 input activations and 1 output, which is (of course) the result we want.\n",
    "\n",
    "ReLU sounds complicated, but all it does is replace every negative value with 0 and leaves the positive values alone."
   ]
  },
  {
   "cell_type": "code",
   "execution_count": 55,
   "metadata": {},
   "outputs": [
    {
     "data": {
      "image/png": "[encoded data removed]",
      "text/plain": [
       "<Figure size 432x288 with 1 Axes>"
      ]
     },
     "metadata": {
      "needs_background": "light"
     },
     "output_type": "display_data"
    }
   ],
   "source": [
    "plot_function(F.relu)"
   ]
  },
  {
   "cell_type": "code",
   "execution_count": 56,
   "metadata": {},
   "outputs": [],
   "source": [
    "simple_net = nn.Sequential(\n",
    "    nn.Linear(28*28,30),\n",
    "    nn.ReLU(),\n",
    "    nn.Linear(30,1))"
   ]
  },
  {
   "cell_type": "markdown",
   "metadata": {},
   "source": [
    "All `nn.Sequential` does is create a model so we can call each layer in turn. Now let's convert the linear model to a neural network model and give it a smaller learning rate( since this is a deeper model)."
   ]
  },
  {
   "cell_type": "code",
   "execution_count": 57,
   "metadata": {},
   "outputs": [
    {
     "data": {
      "text/html": [
       "<table border=\"1\" class=\"dataframe\">\n",
       "  <thead>\n",
       "    <tr style=\"text-align: left;\">\n",
       "      <th>epoch</th>\n",
       "      <th>train_loss</th>\n",
       "      <th>valid_loss</th>\n",
       "      <th>batch_accuracy</th>\n",
       "      <th>time</th>\n",
       "    </tr>\n",
       "  </thead>\n",
       "  <tbody>\n",
       "    <tr>\n",
       "      <td>0</td>\n",
       "      <td>0.317200</td>\n",
       "      <td>0.411041</td>\n",
       "      <td>0.504907</td>\n",
       "      <td>00:00</td>\n",
       "    </tr>\n",
       "    <tr>\n",
       "      <td>1</td>\n",
       "      <td>0.144616</td>\n",
       "      <td>0.221571</td>\n",
       "      <td>0.813543</td>\n",
       "      <td>00:00</td>\n",
       "    </tr>\n",
       "    <tr>\n",
       "      <td>2</td>\n",
       "      <td>0.079456</td>\n",
       "      <td>0.109266</td>\n",
       "      <td>0.922964</td>\n",
       "      <td>00:00</td>\n",
       "    </tr>\n",
       "    <tr>\n",
       "      <td>3</td>\n",
       "      <td>0.052203</td>\n",
       "      <td>0.074251</td>\n",
       "      <td>0.943081</td>\n",
       "      <td>00:00</td>\n",
       "    </tr>\n",
       "    <tr>\n",
       "      <td>4</td>\n",
       "      <td>0.039732</td>\n",
       "      <td>0.058410</td>\n",
       "      <td>0.959274</td>\n",
       "      <td>00:00</td>\n",
       "    </tr>\n",
       "    <tr>\n",
       "      <td>5</td>\n",
       "      <td>0.033423</td>\n",
       "      <td>0.049514</td>\n",
       "      <td>0.965653</td>\n",
       "      <td>00:00</td>\n",
       "    </tr>\n",
       "    <tr>\n",
       "      <td>6</td>\n",
       "      <td>0.029829</td>\n",
       "      <td>0.043923</td>\n",
       "      <td>0.966634</td>\n",
       "      <td>00:00</td>\n",
       "    </tr>\n",
       "    <tr>\n",
       "      <td>7</td>\n",
       "      <td>0.027523</td>\n",
       "      <td>0.040106</td>\n",
       "      <td>0.968106</td>\n",
       "      <td>00:00</td>\n",
       "    </tr>\n",
       "    <tr>\n",
       "      <td>8</td>\n",
       "      <td>0.025874</td>\n",
       "      <td>0.037340</td>\n",
       "      <td>0.969578</td>\n",
       "      <td>00:00</td>\n",
       "    </tr>\n",
       "    <tr>\n",
       "      <td>9</td>\n",
       "      <td>0.024594</td>\n",
       "      <td>0.035239</td>\n",
       "      <td>0.970559</td>\n",
       "      <td>00:00</td>\n",
       "    </tr>\n",
       "    <tr>\n",
       "      <td>10</td>\n",
       "      <td>0.023543</td>\n",
       "      <td>0.033573</td>\n",
       "      <td>0.974485</td>\n",
       "      <td>00:00</td>\n",
       "    </tr>\n",
       "    <tr>\n",
       "      <td>11</td>\n",
       "      <td>0.022650</td>\n",
       "      <td>0.032207</td>\n",
       "      <td>0.974975</td>\n",
       "      <td>00:00</td>\n",
       "    </tr>\n",
       "    <tr>\n",
       "      <td>12</td>\n",
       "      <td>0.021876</td>\n",
       "      <td>0.031052</td>\n",
       "      <td>0.975466</td>\n",
       "      <td>00:00</td>\n",
       "    </tr>\n",
       "    <tr>\n",
       "      <td>13</td>\n",
       "      <td>0.021193</td>\n",
       "      <td>0.030056</td>\n",
       "      <td>0.975957</td>\n",
       "      <td>00:00</td>\n",
       "    </tr>\n",
       "    <tr>\n",
       "      <td>14</td>\n",
       "      <td>0.020586</td>\n",
       "      <td>0.029181</td>\n",
       "      <td>0.975957</td>\n",
       "      <td>00:00</td>\n",
       "    </tr>\n",
       "    <tr>\n",
       "      <td>15</td>\n",
       "      <td>0.020041</td>\n",
       "      <td>0.028401</td>\n",
       "      <td>0.975957</td>\n",
       "      <td>00:00</td>\n",
       "    </tr>\n",
       "    <tr>\n",
       "      <td>16</td>\n",
       "      <td>0.019550</td>\n",
       "      <td>0.027696</td>\n",
       "      <td>0.976938</td>\n",
       "      <td>00:00</td>\n",
       "    </tr>\n",
       "    <tr>\n",
       "      <td>17</td>\n",
       "      <td>0.019103</td>\n",
       "      <td>0.027055</td>\n",
       "      <td>0.977429</td>\n",
       "      <td>00:00</td>\n",
       "    </tr>\n",
       "    <tr>\n",
       "      <td>18</td>\n",
       "      <td>0.018695</td>\n",
       "      <td>0.026469</td>\n",
       "      <td>0.977429</td>\n",
       "      <td>00:00</td>\n",
       "    </tr>\n",
       "    <tr>\n",
       "      <td>19</td>\n",
       "      <td>0.018321</td>\n",
       "      <td>0.025932</td>\n",
       "      <td>0.978410</td>\n",
       "      <td>00:00</td>\n",
       "    </tr>\n",
       "    <tr>\n",
       "      <td>20</td>\n",
       "      <td>0.017976</td>\n",
       "      <td>0.025435</td>\n",
       "      <td>0.978901</td>\n",
       "      <td>00:00</td>\n",
       "    </tr>\n",
       "    <tr>\n",
       "      <td>21</td>\n",
       "      <td>0.017658</td>\n",
       "      <td>0.024976</td>\n",
       "      <td>0.978901</td>\n",
       "      <td>00:00</td>\n",
       "    </tr>\n",
       "    <tr>\n",
       "      <td>22</td>\n",
       "      <td>0.017363</td>\n",
       "      <td>0.024549</td>\n",
       "      <td>0.979392</td>\n",
       "      <td>00:00</td>\n",
       "    </tr>\n",
       "    <tr>\n",
       "      <td>23</td>\n",
       "      <td>0.017089</td>\n",
       "      <td>0.024152</td>\n",
       "      <td>0.979392</td>\n",
       "      <td>00:00</td>\n",
       "    </tr>\n",
       "    <tr>\n",
       "      <td>24</td>\n",
       "      <td>0.016833</td>\n",
       "      <td>0.023783</td>\n",
       "      <td>0.980373</td>\n",
       "      <td>00:00</td>\n",
       "    </tr>\n",
       "    <tr>\n",
       "      <td>25</td>\n",
       "      <td>0.016595</td>\n",
       "      <td>0.023437</td>\n",
       "      <td>0.980864</td>\n",
       "      <td>00:00</td>\n",
       "    </tr>\n",
       "    <tr>\n",
       "      <td>26</td>\n",
       "      <td>0.016371</td>\n",
       "      <td>0.023114</td>\n",
       "      <td>0.980864</td>\n",
       "      <td>00:00</td>\n",
       "    </tr>\n",
       "    <tr>\n",
       "      <td>27</td>\n",
       "      <td>0.016162</td>\n",
       "      <td>0.022812</td>\n",
       "      <td>0.981354</td>\n",
       "      <td>00:00</td>\n",
       "    </tr>\n",
       "    <tr>\n",
       "      <td>28</td>\n",
       "      <td>0.015965</td>\n",
       "      <td>0.022529</td>\n",
       "      <td>0.981845</td>\n",
       "      <td>00:00</td>\n",
       "    </tr>\n",
       "    <tr>\n",
       "      <td>29</td>\n",
       "      <td>0.015779</td>\n",
       "      <td>0.022264</td>\n",
       "      <td>0.981845</td>\n",
       "      <td>00:00</td>\n",
       "    </tr>\n",
       "    <tr>\n",
       "      <td>30</td>\n",
       "      <td>0.015603</td>\n",
       "      <td>0.022015</td>\n",
       "      <td>0.982826</td>\n",
       "      <td>00:00</td>\n",
       "    </tr>\n",
       "    <tr>\n",
       "      <td>31</td>\n",
       "      <td>0.015437</td>\n",
       "      <td>0.021780</td>\n",
       "      <td>0.982826</td>\n",
       "      <td>00:00</td>\n",
       "    </tr>\n",
       "    <tr>\n",
       "      <td>32</td>\n",
       "      <td>0.015278</td>\n",
       "      <td>0.021559</td>\n",
       "      <td>0.982826</td>\n",
       "      <td>00:00</td>\n",
       "    </tr>\n",
       "    <tr>\n",
       "      <td>33</td>\n",
       "      <td>0.015127</td>\n",
       "      <td>0.021351</td>\n",
       "      <td>0.983808</td>\n",
       "      <td>00:00</td>\n",
       "    </tr>\n",
       "    <tr>\n",
       "      <td>34</td>\n",
       "      <td>0.014983</td>\n",
       "      <td>0.021154</td>\n",
       "      <td>0.983808</td>\n",
       "      <td>00:00</td>\n",
       "    </tr>\n",
       "    <tr>\n",
       "      <td>35</td>\n",
       "      <td>0.014846</td>\n",
       "      <td>0.020967</td>\n",
       "      <td>0.983808</td>\n",
       "      <td>00:00</td>\n",
       "    </tr>\n",
       "    <tr>\n",
       "      <td>36</td>\n",
       "      <td>0.014715</td>\n",
       "      <td>0.020789</td>\n",
       "      <td>0.983808</td>\n",
       "      <td>00:00</td>\n",
       "    </tr>\n",
       "    <tr>\n",
       "      <td>37</td>\n",
       "      <td>0.014589</td>\n",
       "      <td>0.020620</td>\n",
       "      <td>0.983808</td>\n",
       "      <td>00:00</td>\n",
       "    </tr>\n",
       "    <tr>\n",
       "      <td>38</td>\n",
       "      <td>0.014468</td>\n",
       "      <td>0.020458</td>\n",
       "      <td>0.983808</td>\n",
       "      <td>00:00</td>\n",
       "    </tr>\n",
       "    <tr>\n",
       "      <td>39</td>\n",
       "      <td>0.014352</td>\n",
       "      <td>0.020303</td>\n",
       "      <td>0.983808</td>\n",
       "      <td>00:00</td>\n",
       "    </tr>\n",
       "  </tbody>\n",
       "</table>"
      ],
      "text/plain": [
       "<IPython.core.display.HTML object>"
      ]
     },
     "metadata": {},
     "output_type": "display_data"
    }
   ],
   "source": [
    "learner = Learner(dls, simple_net, opt_func=SGD, loss_func=mnist_loss, metrics=batch_accuracy)\n",
    "#everything except the SGD is 'home made'\n",
    "learner.fit(40, 0.1)"
   ]
  },
  {
   "cell_type": "code",
   "execution_count": 68,
   "metadata": {},
   "outputs": [
    {
     "name": "stdout",
     "output_type": "stream",
     "text": [
      "final accuracy 0.9838076829910278\n"
     ]
    },
    {
     "data": {
      "image/png": "[encoded data removed]",
      "text/plain": [
       "<Figure size 432x288 with 1 Axes>"
      ]
     },
     "metadata": {
      "needs_background": "light"
     },
     "output_type": "display_data"
    }
   ],
   "source": [
    "#pretty impressive results. We can get those results by calling learner.recorder\n",
    "plt.plot(L(learner.recorder.values).itemgot(2))\n",
    "print(f'final accuracy {learner.recorder.values[-1][2]}')"
   ]
  },
  {
   "cell_type": "markdown",
   "metadata": {},
   "source": [
    "Here we can see the learning rate of the model. It's quite exponential and it is actually to be expected. Of course, on different datasets( when we go for the whole MNIST dataset) it will be different. But we'll pass that hurdle when we get there.\n",
    "\n",
    "# Final thoughts\n",
    "we've coded a neural model from scratch. I believe we've understood some fundamentally important aspects of model processing, Machine Learning and Neural Networks. The accuracy of the model is quite high for just 1-2 minutes of training AND this is a base and simple model. Using techniques that we can learn later on we'll improve these 'rookie' numbers. I look forward to that. \n",
    "\n",
    "To finish things off here is some jargon used daily in the ML world:\n",
    "- ReLU - an activation function that sets negative values to 0 and leaves positive ones untouched\n",
    "- activation function - a function that decides when a neuron should be activated /started\n",
    "- mini-batch - a batch is a small collection of the data(ex. 256 items)\n",
    "- forward pass - calculating the activation functions and loss for the layer\n",
    "- loss - a metric used by the computer to calculate how accurate our model is\n",
    "- gradient - the derivation of the loss function. This is used in the backward pass\n",
    "- backward pass - calculating the gradient and changing the values of the parameters( weights and biases).. also called a step\n",
    "- learning rate - the rate at which the system will learn.. higher values will make the model learn faster, but it is more prone to error and `bouncing`.. too small a value and you will never learn fast enough so the learning rate is a pretty important aspect of the model\n",
    "\n",
    "I've added the graph that shows how the model learns. I cannot stress this enough, this is not a black box if you understand the concepts behind it. \n",
    "\n",
    "![](my_icons/title.PNG)"
   ]
  }
 ],
 "metadata": {
  "jupytext": {
   "split_at_heading": true
  },
  "kernelspec": {
   "display_name": "Python 3",
   "language": "python",
   "name": "python3"
  },
  "language_info": {
   "codemirror_mode": {
    "name": "ipython",
    "version": 3
   },
   "file_extension": ".py",
   "mimetype": "text/x-python",
   "name": "python",
   "nbconvert_exporter": "python",
   "pygments_lexer": "ipython3",
   "version": "3.8.2"
  },
  "toc": {
   "base_numbering": 1,
   "nav_menu": {},
   "number_sections": false,
   "sideBar": true,
   "skip_h1_title": true,
   "title_cell": "Table of Contents",
   "title_sidebar": "Contents",
   "toc_cell": false,
   "toc_position": {},
   "toc_section_display": true,
   "toc_window_display": false
  }
 },
 "nbformat": 4,
 "nbformat_minor": 4
}
